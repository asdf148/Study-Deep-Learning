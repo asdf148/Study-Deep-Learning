{
 "cells": [
  {
   "cell_type": "code",
   "execution_count": 1,
   "id": "e1bdffde",
   "metadata": {},
   "outputs": [],
   "source": [
    "import numpy as np"
   ]
  },
  {
   "cell_type": "code",
   "execution_count": 6,
   "id": "d37c7d30",
   "metadata": {},
   "outputs": [
    {
     "name": "stdout",
     "output_type": "stream",
     "text": [
      "[1. 2. 3.]\n",
      "<class 'numpy.ndarray'>\n"
     ]
    }
   ],
   "source": [
    "x = np.array([1.0, 2.0, 3.0])\n",
    "print(x)\n",
    "print(type(x))"
   ]
  },
  {
   "cell_type": "code",
   "execution_count": 7,
   "id": "dfb72ec6",
   "metadata": {},
   "outputs": [
    {
     "name": "stdout",
     "output_type": "stream",
     "text": [
      "[3. 6. 9.]\n",
      "[-1. -2. -3.]\n",
      "[ 2.  8. 18.]\n",
      "[0.5 0.5 0.5]\n"
     ]
    }
   ],
   "source": [
    "x = np.array([1.0, 2.0, 3.0])\n",
    "y = np.array([2.0, 4.0, 6.0])\n",
    "\n",
    "#원소별로 각각 계산\n",
    "print(x + y)\n",
    "print(x - y)\n",
    "print(x * y)\n",
    "print(x / y)"
   ]
  },
  {
   "cell_type": "code",
   "execution_count": 8,
   "id": "1c524cfc",
   "metadata": {},
   "outputs": [
    {
     "name": "stdout",
     "output_type": "stream",
     "text": [
      "[0.5 1.  1.5]\n"
     ]
    }
   ],
   "source": [
    "x = np.array([1.0, 2.0, 3.0])\n",
    "print(x / 2.0)"
   ]
  },
  {
   "cell_type": "code",
   "execution_count": 19,
   "id": "8ec0f11a",
   "metadata": {},
   "outputs": [
    {
     "name": "stdout",
     "output_type": "stream",
     "text": [
      "A:\n",
      " [[1 2]\n",
      " [3 4]]\n",
      "행렬의 형상: (2, 2)\n",
      "행렬에 담긴 원소의 자료형: int64\n"
     ]
    }
   ],
   "source": [
    "#2차원 배열\n",
    "A = np.array([[1, 2,], [3, 4]])\n",
    "print('A:\\n',A)\n",
    "print('행렬의 형상:', A.shape)\n",
    "print('행렬에 담긴 원소의 자료형:', A.dtype)"
   ]
  },
  {
   "cell_type": "code",
   "execution_count": 22,
   "id": "0a9fb2a7",
   "metadata": {},
   "outputs": [
    {
     "name": "stdout",
     "output_type": "stream",
     "text": [
      "행렬 덧셈:\n",
      " [[ 4  2]\n",
      " [ 3 10]]\n",
      "행렬 곱셈:\n",
      " [[ 3  0]\n",
      " [ 0 24]]\n"
     ]
    }
   ],
   "source": [
    "B = np.array([[3, 0], [0, 6]])\n",
    "print('행렬 덧셈:\\n', A + B)\n",
    "print('행렬 곱셈:\\n', A * B)"
   ]
  },
  {
   "cell_type": "code",
   "execution_count": 24,
   "id": "ce17ecc0",
   "metadata": {},
   "outputs": [
    {
     "name": "stdout",
     "output_type": "stream",
     "text": [
      "A:\n",
      " [[1 2]\n",
      " [3 4]]\n",
      "A * 10:\n",
      " [[10 20]\n",
      " [30 40]]\n"
     ]
    }
   ],
   "source": [
    "print('A:\\n', A)\n",
    "print('A * 10:\\n', A * 10)"
   ]
  },
  {
   "cell_type": "code",
   "execution_count": 26,
   "id": "fb790ef3",
   "metadata": {},
   "outputs": [
    {
     "name": "stdout",
     "output_type": "stream",
     "text": [
      "[[10 40]\n",
      " [30 80]]\n"
     ]
    }
   ],
   "source": [
    "#브로드캐스트\n",
    "A = np.array([[1, 2], [3, 4]])\n",
    "B = np.array([10, 20])\n",
    "print(A * B)"
   ]
  },
  {
   "cell_type": "code",
   "execution_count": 27,
   "id": "1cffab23",
   "metadata": {},
   "outputs": [
    {
     "name": "stdout",
     "output_type": "stream",
     "text": [
      "X:\n",
      " [[51 55]\n",
      " [14 19]\n",
      " [ 0  4]]\n",
      "X[0]: [51 55]\n",
      "X[0][1]: 55\n"
     ]
    }
   ],
   "source": [
    "#원소 접근\n",
    "X = np.array([[51, 55], [14, 19], [0, 4]])\n",
    "print('X:\\n', X)\n",
    "print('X[0]:', X[0])\n",
    "print('X[0][1]:', X[0][1])"
   ]
  },
  {
   "cell_type": "code",
   "execution_count": 28,
   "id": "b2b8fad9",
   "metadata": {},
   "outputs": [
    {
     "name": "stdout",
     "output_type": "stream",
     "text": [
      "[51 55]\n",
      "[14 19]\n",
      "[0 4]\n"
     ]
    }
   ],
   "source": [
    "for row in X:\n",
    "    print(row)"
   ]
  },
  {
   "cell_type": "code",
   "execution_count": 30,
   "id": "d2506143",
   "metadata": {},
   "outputs": [
    {
     "name": "stdout",
     "output_type": "stream",
     "text": [
      "X를 1차원 배열로 변환(평탄화): [51 55 14 19  0  4]\n",
      "인덱스가 0, 2, 4인 원소 얻기: [51 14  0]\n"
     ]
    }
   ],
   "source": [
    "X = X.flatten()\n",
    "print('X를 1차원 배열로 변환(평탄화):', X)\n",
    "print('인덱스가 0, 2, 4인 원소 얻기:', X[np.array([0, 2, 4])])"
   ]
  },
  {
   "cell_type": "code",
   "execution_count": 32,
   "id": "0e1425fe",
   "metadata": {},
   "outputs": [
    {
     "name": "stdout",
     "output_type": "stream",
     "text": [
      "X: [51 55 14 19  0  4]\n",
      "X에서 15 이상인 값만\n",
      "여부 출력: [ True  True False  True False False]\n",
      "원소 값으로 출력: [51 55 19]\n"
     ]
    }
   ],
   "source": [
    "print('X:', X)\n",
    "print('X에서 15 이상인 값만')\n",
    "print('여부 출력:', X > 15)\n",
    "print('원소 값으로 출력:', X[X>15])"
   ]
  }
 ],
 "metadata": {
  "kernelspec": {
   "display_name": "Python 3 (ipykernel)",
   "language": "python",
   "name": "python3"
  },
  "language_info": {
   "codemirror_mode": {
    "name": "ipython",
    "version": 3
   },
   "file_extension": ".py",
   "mimetype": "text/x-python",
   "name": "python",
   "nbconvert_exporter": "python",
   "pygments_lexer": "ipython3",
   "version": "3.8.8"
  }
 },
 "nbformat": 4,
 "nbformat_minor": 5
}
