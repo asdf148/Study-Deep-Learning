{
 "cells": [
  {
   "cell_type": "markdown",
   "id": "8789c945",
   "metadata": {},
   "source": [
    "$$a^{(1)}_{1} = w^{(1)}_{11}x_1 + w^{(1)}_{12}x_2 + b^{(1)}_{1} $$\n",
    "<center>행렬곱을 이용해 간소화</center>  \n",
    "\n",
    "$$ A^{(1)}=XW^{(1)}+B^{(1)} $$\n",
    "\n",
    "$$ A^{(1)}=(a^{(1)}_{1},\\;a^{(1)}_{2},\\;a^{(1)}_{3}),\\quad X = (x_{1},\\quad x_{2}),\\quad B^{(1)}=(b^{(1)}_{1},\\;b^{(1)}_{2},\\;b^{(1)}_{3}) $$\n",
    "$$ W^{(1)} = (^{w^{(1)}_{11},\\;w^{(1)}_{21},\\;w^{(1)}_{31}}_{w^{(1)}_{12},\\;w^{(1)}_{22},\\;w^{(1)}_{32}}) $$"
   ]
  },
  {
   "cell_type": "code",
   "execution_count": 2,
   "id": "fd272826",
   "metadata": {},
   "outputs": [
    {
     "name": "stdout",
     "output_type": "stream",
     "text": [
      "(2,)\n",
      "(2, 3)\n",
      "(3,)\n"
     ]
    }
   ],
   "source": [
    "import numpy as np\n",
    "\n",
    "X = np.array([1.0, 0.5])\n",
    "W1 = np.array([[0.1, 0.3, 0.5], [0.2, 0.4, 0.6]])\n",
    "B1 = np.array([0.1, 0.2, 0.3])\n",
    "\n",
    "print(X.shape)\n",
    "print(W1.shape)\n",
    "print(B1.shape)\n",
    "\n",
    "A1 = np.dot(X, W1) + B1"
   ]
  },
  {
   "cell_type": "markdown",
   "id": "71b42220",
   "metadata": {},
   "source": [
    "![first layer.png](./image./first_layer.png)"
   ]
  }
 ],
 "metadata": {
  "kernelspec": {
   "display_name": "Python 3 (ipykernel)",
   "language": "python",
   "name": "python3"
  },
  "language_info": {
   "codemirror_mode": {
    "name": "ipython",
    "version": 3
   },
   "file_extension": ".py",
   "mimetype": "text/x-python",
   "name": "python",
   "nbconvert_exporter": "python",
   "pygments_lexer": "ipython3",
   "version": "3.8.8"
  }
 },
 "nbformat": 4,
 "nbformat_minor": 5
}
