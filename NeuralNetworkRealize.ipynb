{
 "cells": [
  {
   "cell_type": "markdown",
   "id": "8789c945",
   "metadata": {},
   "source": [
    "$$a^{(1)}_{1} = w^{(1)}_{11}x_1 + w^{(1)}_{12}x_2 + b^{(1)}_{1} $$\n",
    "<center>행렬곱을 이용해 간소화</center>  \n",
    "\n",
    "$$ A^{(1)}=XW^{(1)}+B^{(1)} $$\n",
    "\n",
    "$$ A^{(1)}=(a^{(1)}_{1},\\;a^{(1)}_{2},\\;a^{(1)}_{3}),\\quad X = (x_{1},\\quad x_{2}),\\quad B^{(1)}=(b^{(1)}_{1},\\;b^{(1)}_{2},\\;b^{(1)}_{3}) $$\n",
    "$$ W^{(1)} = (^{w^{(1)}_{11},\\;w^{(1)}_{21},\\;w^{(1)}_{31}}_{w^{(1)}_{12},\\;w^{(1)}_{22},\\;w^{(1)}_{32}}) $$"
   ]
  },
  {
   "cell_type": "code",
   "execution_count": 3,
   "id": "fd272826",
   "metadata": {},
   "outputs": [
    {
     "name": "stdout",
     "output_type": "stream",
     "text": [
      "(2,)\n",
      "(2, 3)\n",
      "(3,)\n",
      "[0.3 0.7 1.1]\n",
      "[0.57444252 0.66818777 0.75026011]\n"
     ]
    }
   ],
   "source": [
    "import numpy as np\n",
    "\n",
    "X = np.array([1.0, 0.5])\n",
    "W1 = np.array([[0.1, 0.3, 0.5], [0.2, 0.4, 0.6]])\n",
    "B1 = np.array([0.1, 0.2, 0.3])\n",
    "\n",
    "print(X.shape)\n",
    "print(W1.shape)\n",
    "print(B1.shape)\n",
    "\n",
    "A1 = np.dot(X, W1) + B1\n",
    "\n",
    "\n",
    "def sigmoid(x):\n",
    "    return 1 / (1 + np.exp(-x))\n",
    "\n",
    "Z1 = sigmoid(A1)\n",
    "print(A1)\n",
    "print(Z1)"
   ]
  },
  {
   "cell_type": "markdown",
   "id": "71b42220",
   "metadata": {},
   "source": [
    "![first layer.png](./image./first_layer.png)"
   ]
  },
  {
   "cell_type": "code",
   "execution_count": 8,
   "id": "3b2bc9f7",
   "metadata": {},
   "outputs": [
    {
     "name": "stdout",
     "output_type": "stream",
     "text": [
      "(3,)\n",
      "(3, 2)\n",
      "(2,)\n",
      "[0.62624937 0.7710107 ]\n"
     ]
    }
   ],
   "source": [
    "Z1 = np.array([0.57444252, 0.66818777, 0.75026011])\n",
    "W2 = np.array([[0.1, 0.4], [0.2, 0.5], [0.3, 0.6]])\n",
    "B2 = np.array([0.1, 0.2])\n",
    "\n",
    "print(Z1.shape)\n",
    "print(W2.shape)\n",
    "print(B2.shape)\n",
    "\n",
    "A2 = np.dot(Z1, W2) + B2\n",
    "Z2 = sigmoid(A2)\n",
    "\n",
    "print(Z2)"
   ]
  },
  {
   "cell_type": "markdown",
   "id": "ea27f828",
   "metadata": {},
   "source": [
    "![second layer.png](./image./second_layer.png)"
   ]
  },
  {
   "cell_type": "code",
   "execution_count": 10,
   "id": "edb0196b",
   "metadata": {},
   "outputs": [],
   "source": [
    "def identity_function(x):\n",
    "    return x\n",
    "\n",
    "Z2 = np.array([0.62624937, 0.7710107])\n",
    "W3 = np.array([[0.1, 0.3], [0.2, 0.4]])\n",
    "B3 = np.array([0.1, 0.2])\n",
    "\n",
    "A3 = np.dot(Z2, W3) + B3\n",
    "Y = identity_function(A3)"
   ]
  },
  {
   "cell_type": "markdown",
   "id": "c0166d69",
   "metadata": {},
   "source": [
    "![third layer.png](./image./third_layer.png)"
   ]
  },
  {
   "cell_type": "markdown",
   "id": "0d74db7e",
   "metadata": {},
   "source": [
    "출력층의 활성화 함수는 문제의 성질에 맞게 선정\n",
    "예) 회귀에는 항등함수, 2클래스 분류에는 시그모이드 함수, 다중클래스 분류에는 소프트맥스 함수 사용"
   ]
  },
  {
   "cell_type": "code",
   "execution_count": 12,
   "id": "64a73851",
   "metadata": {},
   "outputs": [
    {
     "name": "stdout",
     "output_type": "stream",
     "text": [
      "[0.31682708 0.69627909]\n"
     ]
    }
   ],
   "source": [
    "def sigmoid(x):\n",
    "    return 1 / (1 + np.exp(-x))\n",
    "\n",
    "def identity_function(x):\n",
    "    return x\n",
    "\n",
    "def init_network():\n",
    "    network = {}\n",
    "    network['W1'] = np.array([[0.1, 0.3, 0.5], [0.2, 0.4, 0.6]])\n",
    "    network['b1'] = np.array([0.1, 0.2, 0.3])\n",
    "    network['W2'] = np.array([[0.1, 0.4], [0.2, 0.5], [0.3, 0.6]])\n",
    "    network['b2'] = np.array([0.1, 0.2])\n",
    "    network['W3'] = np.array([[0.1, 0.3], [0.2, 0.4]])\n",
    "    network['b3'] = np.array([0.1, 0.2])\n",
    "    \n",
    "    return network\n",
    "\n",
    "def forward(network, x):\n",
    "    W1, W2, W3 = network['W1'], network['W2'], network['W3']\n",
    "    b1, b2, b3 = network['b1'], network['b2'], network['b3']\n",
    "    \n",
    "    a1 = np.dot(x, W1) + b1\n",
    "    z1 = sigmoid(a1)\n",
    "    a2 = np.dot(z1, W2) + b2\n",
    "    z2 = sigmoid(a2)\n",
    "    a3 = np.dot(z2, W3) + b3\n",
    "    y = identity_function(a3)\n",
    "    \n",
    "    return y\n",
    "\n",
    "network = init_network()\n",
    "x = np.array([1.0, 0.5])\n",
    "y = forward(network, x)\n",
    "print(y)"
   ]
  }
 ],
 "metadata": {
  "kernelspec": {
   "display_name": "Python 3 (ipykernel)",
   "language": "python",
   "name": "python3"
  },
  "language_info": {
   "codemirror_mode": {
    "name": "ipython",
    "version": 3
   },
   "file_extension": ".py",
   "mimetype": "text/x-python",
   "name": "python",
   "nbconvert_exporter": "python",
   "pygments_lexer": "ipython3",
   "version": "3.8.8"
  }
 },
 "nbformat": 4,
 "nbformat_minor": 5
}
